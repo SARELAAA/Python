{
 "cells": [
  {
   "cell_type": "code",
   "execution_count": 1,
   "id": "0c50d9ee",
   "metadata": {},
   "outputs": [
    {
     "name": "stdout",
     "output_type": "stream",
     "text": [
      "Requirement already satisfied: openpyxl in c:\\programdata\\anaconda3\\lib\\site-packages (3.0.7)\n",
      "Requirement already satisfied: et-xmlfile in c:\\programdata\\anaconda3\\lib\\site-packages (from openpyxl) (1.0.1)\n"
     ]
    },
    {
     "name": "stderr",
     "output_type": "stream",
     "text": [
      "\n",
      "[notice] A new release of pip available: 22.3.1 -> 23.2.1\n",
      "[notice] To update, run: python.exe -m pip install --upgrade pip\n"
     ]
    }
   ],
   "source": [
    "!pip install openpyxl"
   ]
  },
  {
   "cell_type": "markdown",
   "id": "9b058d30",
   "metadata": {},
   "source": [
    "# Una guía para hojas de cálculo de Excel en Python con openpyxl"
   ]
  },
  {
   "cell_type": "code",
   "execution_count": 2,
   "id": "739dffd9",
   "metadata": {},
   "outputs": [],
   "source": [
    "from openpyxl import Workbook\n",
    "\n",
    "workbook = Workbook()\n",
    "sheet = workbook.active\n",
    "\n",
    "sheet[\"A1\"] = \"hello\"\n",
    "sheet[\"B1\"] = \"world!\"\n",
    "\n",
    "workbook.save(filename=\"hello_world.xlsx\")"
   ]
  },
  {
   "cell_type": "code",
   "execution_count": 4,
   "id": "ec4113df",
   "metadata": {},
   "outputs": [
    {
     "data": {
      "text/plain": [
       "['Sheet']"
      ]
     },
     "execution_count": 4,
     "metadata": {},
     "output_type": "execute_result"
    }
   ],
   "source": [
    " from openpyxl import load_workbook\n",
    " workbook = load_workbook(filename=\"sample.xlsx\")\n",
    " workbook.sheetnames"
   ]
  },
  {
   "cell_type": "code",
   "execution_count": 5,
   "id": "7828998f",
   "metadata": {},
   "outputs": [],
   "source": [
    " sheet = workbook.active"
   ]
  },
  {
   "cell_type": "code",
   "execution_count": 6,
   "id": "2fb7fcea",
   "metadata": {},
   "outputs": [
    {
     "data": {
      "text/plain": [
       "<Worksheet \"Sheet\">"
      ]
     },
     "execution_count": 6,
     "metadata": {},
     "output_type": "execute_result"
    }
   ],
   "source": [
    "sheet"
   ]
  },
  {
   "cell_type": "code",
   "execution_count": 7,
   "id": "1920af40",
   "metadata": {},
   "outputs": [
    {
     "data": {
      "text/plain": [
       "'Sheet'"
      ]
     },
     "execution_count": 7,
     "metadata": {},
     "output_type": "execute_result"
    }
   ],
   "source": [
    "sheet.title"
   ]
  },
  {
   "cell_type": "code",
   "execution_count": 8,
   "id": "c78fdb34",
   "metadata": {},
   "outputs": [
    {
     "data": {
      "text/plain": [
       "<Cell 'Sheet'.A1>"
      ]
     },
     "execution_count": 8,
     "metadata": {},
     "output_type": "execute_result"
    }
   ],
   "source": [
    "sheet[\"A1\"]"
   ]
  },
  {
   "cell_type": "code",
   "execution_count": 9,
   "id": "143e5e2d",
   "metadata": {},
   "outputs": [
    {
     "data": {
      "text/plain": [
       "'hello'"
      ]
     },
     "execution_count": 9,
     "metadata": {},
     "output_type": "execute_result"
    }
   ],
   "source": [
    "sheet[\"A1\"].value"
   ]
  },
  {
   "cell_type": "code",
   "execution_count": 12,
   "id": "34513438",
   "metadata": {},
   "outputs": [],
   "source": [
    "sheet[\"F10\"].value"
   ]
  },
  {
   "cell_type": "code",
   "execution_count": 13,
   "id": "a57e4480",
   "metadata": {},
   "outputs": [
    {
     "data": {
      "text/plain": [
       "<Cell 'Sheet'.F10>"
      ]
     },
     "execution_count": 13,
     "metadata": {},
     "output_type": "execute_result"
    }
   ],
   "source": [
    "sheet.cell(row=10, column=6)"
   ]
  },
  {
   "cell_type": "code",
   "execution_count": 14,
   "id": "fb1b724c",
   "metadata": {},
   "outputs": [],
   "source": [
    "sheet.cell(row=10, column=6).value"
   ]
  },
  {
   "cell_type": "code",
   "execution_count": 15,
   "id": "d918040a",
   "metadata": {},
   "outputs": [
    {
     "data": {
      "text/plain": [
       "((<Cell 'Sheet'.A1>, <Cell 'Sheet'.B1>, <Cell 'Sheet'.C1>),\n",
       " (<Cell 'Sheet'.A2>, <Cell 'Sheet'.B2>, <Cell 'Sheet'.C2>))"
      ]
     },
     "execution_count": 15,
     "metadata": {},
     "output_type": "execute_result"
    }
   ],
   "source": [
    "sheet[\"A1:C2\"]"
   ]
  },
  {
   "cell_type": "code",
   "execution_count": 16,
   "id": "a13d2688",
   "metadata": {},
   "outputs": [
    {
     "data": {
      "text/plain": [
       "(<Cell 'Sheet'.A1>,\n",
       " <Cell 'Sheet'.A2>,\n",
       " <Cell 'Sheet'.A3>,\n",
       " <Cell 'Sheet'.A4>,\n",
       " <Cell 'Sheet'.A5>,\n",
       " <Cell 'Sheet'.A6>,\n",
       " <Cell 'Sheet'.A7>,\n",
       " <Cell 'Sheet'.A8>,\n",
       " <Cell 'Sheet'.A9>,\n",
       " <Cell 'Sheet'.A10>)"
      ]
     },
     "execution_count": 16,
     "metadata": {},
     "output_type": "execute_result"
    }
   ],
   "source": [
    "# Get all cells from column A\n",
    "sheet[\"A\"]"
   ]
  },
  {
   "cell_type": "code",
   "execution_count": 17,
   "id": "fc5d3411",
   "metadata": {},
   "outputs": [
    {
     "data": {
      "text/plain": [
       "((<Cell 'Sheet'.A1>,\n",
       "  <Cell 'Sheet'.A2>,\n",
       "  <Cell 'Sheet'.A3>,\n",
       "  <Cell 'Sheet'.A4>,\n",
       "  <Cell 'Sheet'.A5>,\n",
       "  <Cell 'Sheet'.A6>,\n",
       "  <Cell 'Sheet'.A7>,\n",
       "  <Cell 'Sheet'.A8>,\n",
       "  <Cell 'Sheet'.A9>,\n",
       "  <Cell 'Sheet'.A10>),\n",
       " (<Cell 'Sheet'.B1>,\n",
       "  <Cell 'Sheet'.B2>,\n",
       "  <Cell 'Sheet'.B3>,\n",
       "  <Cell 'Sheet'.B4>,\n",
       "  <Cell 'Sheet'.B5>,\n",
       "  <Cell 'Sheet'.B6>,\n",
       "  <Cell 'Sheet'.B7>,\n",
       "  <Cell 'Sheet'.B8>,\n",
       "  <Cell 'Sheet'.B9>,\n",
       "  <Cell 'Sheet'.B10>))"
      ]
     },
     "execution_count": 17,
     "metadata": {},
     "output_type": "execute_result"
    }
   ],
   "source": [
    " # Get all cells for a range of columns\n",
    " sheet[\"A:B\"]"
   ]
  },
  {
   "cell_type": "code",
   "execution_count": 18,
   "id": "44b3fe95",
   "metadata": {},
   "outputs": [
    {
     "name": "stdout",
     "output_type": "stream",
     "text": [
      "(<Cell 'Sheet'.A1>, <Cell 'Sheet'.B1>, <Cell 'Sheet'.C1>)\n",
      "(<Cell 'Sheet'.A2>, <Cell 'Sheet'.B2>, <Cell 'Sheet'.C2>)\n"
     ]
    }
   ],
   "source": [
    "for row in sheet.iter_rows(min_row=1,\n",
    "                           max_row=2,\n",
    "                           min_col=1,\n",
    "                           max_col=3):\n",
    "    print(row)"
   ]
  },
  {
   "cell_type": "code",
   "execution_count": 19,
   "id": "e126d468",
   "metadata": {},
   "outputs": [
    {
     "name": "stdout",
     "output_type": "stream",
     "text": [
      "('hello', 'world!', None)\n",
      "(None, None, None)\n"
     ]
    }
   ],
   "source": [
    "for value in sheet.iter_rows(min_row=1,\n",
    "                             max_row=2,\n",
    "                             min_col=1,\n",
    "                             max_col=3,\n",
    "                             values_only=True):\n",
    "    print(value)"
   ]
  },
  {
   "cell_type": "markdown",
   "id": "754935bd",
   "metadata": {},
   "source": [
    " Fuente : https://realpython.com/openpyxl-excel-spreadsheets-python/"
   ]
  },
  {
   "cell_type": "code",
   "execution_count": 20,
   "id": "67eb3ae1",
   "metadata": {},
   "outputs": [
    {
     "ename": "SyntaxError",
     "evalue": "invalid syntax (<ipython-input-20-483f83f1a413>, line 1)",
     "output_type": "error",
     "traceback": [
      "\u001b[1;36m  File \u001b[1;32m\"<ipython-input-20-483f83f1a413>\"\u001b[1;36m, line \u001b[1;32m1\u001b[0m\n\u001b[1;33m    winget install --id Git.Git -e --source winget\u001b[0m\n\u001b[1;37m           ^\u001b[0m\n\u001b[1;31mSyntaxError\u001b[0m\u001b[1;31m:\u001b[0m invalid syntax\n"
     ]
    }
   ],
   "source": [
    "winget install --id Git.Git -e --source winget"
   ]
  },
  {
   "cell_type": "code",
   "execution_count": null,
   "id": "574335c9",
   "metadata": {},
   "outputs": [],
   "source": []
  }
 ],
 "metadata": {
  "kernelspec": {
   "display_name": "Python 3",
   "language": "python",
   "name": "python3"
  },
  "language_info": {
   "codemirror_mode": {
    "name": "ipython",
    "version": 3
   },
   "file_extension": ".py",
   "mimetype": "text/x-python",
   "name": "python",
   "nbconvert_exporter": "python",
   "pygments_lexer": "ipython3",
   "version": "3.8.8"
  }
 },
 "nbformat": 4,
 "nbformat_minor": 5
}
